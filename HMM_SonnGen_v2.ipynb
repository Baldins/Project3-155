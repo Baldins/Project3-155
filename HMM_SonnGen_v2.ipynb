{
 "cells": [
  {
   "cell_type": "code",
   "execution_count": 14,
   "metadata": {},
   "outputs": [],
   "source": [
    "import numpy as np\n",
    "import random\n",
    "import pickle\n",
    "import nltk\n",
    "import json\n",
    "import re\n",
    "import os\n",
    "from HMM import unsupervised_HMM\n",
    "from HMM_helper import sample_sentence, parse_observations\n",
    "from string import punctuation\n",
    "from nltk.tokenize import word_tokenize\n",
    "from nltk import pos_tag\n",
    "from nltk.corpus import cmudict\n",
    "from sklearn.feature_extraction.text import TfidfVectorizer"
   ]
  },
  {
   "cell_type": "markdown",
   "metadata": {},
   "source": [
    "Lets first read in the sonnets and tokenize them. We will tokenize them both by line and by poem.  "
   ]
  },
  {
   "cell_type": "code",
   "execution_count": 15,
   "metadata": {},
   "outputs": [],
   "source": [
    "f = open(os.getcwd()+'/data/shakespeare.txt')\n",
    "lines = f.readlines()\n",
    "all_words = []\n",
    "new_lines = []\n",
    "sonnets=[]\n",
    "sonnet=[]\n",
    "poems = []\n",
    "\n",
    "\n",
    "for line in lines:\n",
    "    line = line.strip()\n",
    "    line = line.lower()\n",
    "    newPun = \"#$%&()*+/<=>@][^_`{|}~-\"\n",
    "#     line = ''.join(c for c in line if c not in newPunct)\n",
    "    for punct in newPun:\n",
    "        line = line.replace(punct, '')\n",
    "    if line.isdigit():\n",
    "        sonnets.append(sonnet)\n",
    "        sonnet = []\n",
    "    elif line.strip() == '':\n",
    "        pass\n",
    "    else:\n",
    "        all_words.append(nltk.word_tokenize(line)) # this is all tokens in each line\n",
    "        sonnet.append(line)\n",
    "sonnets.append(sonnet)\n",
    "del sonnets[0]\n"
   ]
  },
  {
   "cell_type": "markdown",
   "metadata": {},
   "source": [
    "marking out the bad sonnets - later they were deleted \n",
    "\n",
    "bad_sonnets = []\n",
    "for i in range(len(sonnets)):\n",
    "    if len(sonnets[i]) != 14:\n",
    "        bad_sonnets.append(i)"
   ]
  },
  {
   "cell_type": "code",
   "execution_count": 17,
   "metadata": {},
   "outputs": [],
   "source": [
    "line_tokens = [] # tokens per line\n",
    "poem_tokens = [] # tokens per poem\n",
    "single_poem_tokens = []\n",
    "for sonnet in sonnets:\n",
    "    poem_tokens.append(single_poem_tokens)\n",
    "    for line in sonnet:\n",
    "            line_tokens.append(nltk.word_tokenize(line)) # this is all tokens in each line\n",
    "            single_poem_tokens += nltk.word_tokenize(line)\n"
   ]
  },
  {
   "cell_type": "markdown",
   "metadata": {},
   "source": [
    "The function below will create a dictionary we will use later to ensure the sonnet rhyme scheme is adhered to."
   ]
  },
  {
   "cell_type": "code",
   "execution_count": 4,
   "metadata": {},
   "outputs": [],
   "source": [
    "def make_dictionary(dictionary, word1, word2):\n",
    "    \"\"\"\n",
    "    This function takes in a dictionary and two words. \n",
    "    It populates the dictionary with keys: word1\n",
    "    values: word2\n",
    "    \n",
    "    \"\"\"\n",
    "    if word1 in dictionary:\n",
    "        word_list = dictionary.get(word1)\n",
    "        if word2 not in word_list:\n",
    "            new_word_list = dictionary[word1]\n",
    "            new_word_list.append(word2)\n",
    "            dictionary[word1] = new_word_list\n",
    "    else:\n",
    "        dictionary[word1] = [word2]\n",
    "\n",
    "    if word2 in dictionary:\n",
    "        word_list = dictionary.get(word2)\n",
    "        if word1 not in word_list:\n",
    "            new_word_list = dictionary[word2]\n",
    "            new_word_list.append(word1)\n",
    "            dictionary[word2] = new_word_list\n",
    "    else:\n",
    "        dictionary[word2] = [word1]\n",
    "\n",
    "    return dictionary"
   ]
  },
  {
   "cell_type": "markdown",
   "metadata": {},
   "source": [
    "This lower cell reads in the syllable dictionary, then returns the list of words and the number of syllables in either the line or whole poem. "
   ]
  },
  {
   "cell_type": "code",
   "execution_count": 5,
   "metadata": {},
   "outputs": [],
   "source": [
    "# syllable_dictionary is a dictionary with all the words in the sonnets\n",
    "# and how many syllables each word is \n",
    "syllables = {}\n",
    "with open(\"./data/Syllable_dictionary.txt\") as syllableDict:\n",
    "    for line in syllableDict:\n",
    "        split = line.split()\n",
    "        if len(split) == 3:\n",
    "            (key, end, val) = line.split()\n",
    "        else:\n",
    "            (key, val) = line.split()\n",
    "\n",
    "        # they're ordered by syllable length, so sometimes the E is last\n",
    "        try:\n",
    "            syllables[key] = int(val)\n",
    "        except:\n",
    "            syllables[key] = int(end)\n",
    "\n",
    "rhymes = {}\n",
    "# sonnet format: abab cdcd efef gg\n",
    "for j in range(len(line_tokens)-1):\n",
    "    line = line_tokens[j]\n",
    "    last_word = line[-1]\n",
    "    i = (j % 14) + 1\n",
    "    # using our dictionary function to create a dict where the values of a given key are all the words that rhyme with it\n",
    "    if i == 1 or i == 2 or i == 5 or i == 6 or i == 9 or i == 10:\n",
    "        rhymes = make_dictionary(rhymes, last_word, line_tokens[j+2][-1])\n",
    "    elif i == 13:\n",
    "        rhymes = make_dictionary(rhymes, last_word, line_tokens[j+1][-1])\n",
    "    \n"
   ]
  },
  {
   "cell_type": "markdown",
   "metadata": {},
   "source": [
    "This next function returns the sequences in the lines (not sure what this is to be honest), a dictionary with their encoding and the features (tokens)."
   ]
  },
  {
   "cell_type": "code",
   "execution_count": 6,
   "metadata": {},
   "outputs": [],
   "source": [
    "sequences = [] \n",
    "seq_encode = [] \n",
    "features = []\n",
    "\n",
    "# look through all tokens and \n",
    "for obs in poem_tokens:\n",
    "    # assigning a POS tag to each token in that line\n",
    "    seq = pos_tag(obs)\n",
    "    poemFeatures = []\n",
    "    # if it's a new sequence, add it to the list\n",
    "    for pair in seq: \n",
    "        if pair[1] not in sequences:\n",
    "            sequences.append(pair[1])\n",
    "            seq_encode.append([])\n",
    "            seq_encode[sequences.index(pair[1])].append([pair[0], 1])\n",
    "        else: \n",
    "            firstCol = [row[0] for row in seq_encode[sequences.index(pair[1])]]\n",
    "            if pair[0] not in firstCol:\n",
    "                seq_encode[sequences.index(pair[1])].append([pair[0], 1])\n",
    "            else:\n",
    "                index = firstCol.index(pair[0])\n",
    "                seq_encode[sequences.index(pair[1])][index][1] += 1\n",
    "        \n",
    "        # poemFeatures now contains the features of each token in the line\n",
    "        poemFeatures.append(sequences.index(pair[1]))\n",
    "\n",
    "\n",
    "    features.append(poemFeatures)\n"
   ]
  },
  {
   "cell_type": "code",
   "execution_count": 7,
   "metadata": {},
   "outputs": [],
   "source": [
    "def generate_words(emission, POSlookup, syllables, reverse=False, lastWord=None):\n",
    "    '''\n",
    "    This function generates a string given the emissions and the probabilities \n",
    "    of a word being emitted given a certain\n",
    "    Input:\n",
    "        emission: The list of emission, which represents the POS of the word\n",
    "        POSlookup: A 2D array being POS, [word, frequency] for the given POS\n",
    "        syllables: The dictionary of words and number of syllables each word has\n",
    "        reverse: Whether to start from beginning or end of line\n",
    "        rhymes: Dictionary of different rhymes\n",
    "    Output:\n",
    "        emStr: The sentence generated\n",
    "    '''\n",
    "    done = False\n",
    "    if reverse:\n",
    "        assert(lastWord is not None)\n",
    "        while not done:\n",
    "            emStr = lastWord\n",
    "            try:\n",
    "                syllableCount = syllables[lastWord]\n",
    "            except:\n",
    "                syllableCount = 2\n",
    "                print(lastWord)\n",
    "            for obs in emission:\n",
    "                emRate = [row[1] for row in POSlookup[obs]]\n",
    "                emWords = [row[0] for row in POSlookup[obs]]\n",
    "                emRate = np.array(emRate)\n",
    "                emRate = emRate/sum(emRate)\n",
    "\n",
    "                index = np.random.choice(np.arange(len(emRate)), p=emRate)\n",
    "                newWord = emWords[index]\n",
    "                try:\n",
    "                    syllableCount += syllables[newWord]\n",
    "                except:\n",
    "                    syllableCount += 2\n",
    "                    print(newWord)\n",
    "                emStr = newWord + ' ' + emStr\n",
    "                if syllableCount == 10:\n",
    "                    done = True\n",
    "                    break\n",
    "    else:\n",
    "        while not done:\n",
    "            emStr = ''\n",
    "            syllableCount = 0\n",
    "            for obs in emission: \n",
    "                emRate = [row[1] for row in POSlookup[obs]]\n",
    "                emWords = [row[0] for row in POSlookup[obs]]\n",
    "                emRate = np.array(emRate)\n",
    "                emRate = emRate/sum(emRate)\n",
    "\n",
    "                index = np.random.choice(np.arange(len(emRate)), p=emRate)\n",
    "                newWord = emWords[index]\n",
    "                syllableCount += syllables[newWord]\n",
    "                emStr = emStr + newWord + ' '\n",
    "                if syllableCount == 10:\n",
    "                    done = True\n",
    "                    break\n",
    "    return emStr\n",
    "\n"
   ]
  },
  {
   "cell_type": "markdown",
   "metadata": {},
   "source": [
    "#### This is the main function "
   ]
  },
  {
   "cell_type": "code",
   "execution_count": 8,
   "metadata": {},
   "outputs": [
    {
     "name": "stdout",
     "output_type": "stream",
     "text": [
      "Iteration: 10\n",
      "Iteration: 20\n",
      "Iteration: 30\n",
      "Iteration: 40\n",
      "Iteration: 50\n",
      "Iteration: 60\n",
      "Iteration: 70\n",
      "Iteration: 80\n",
      "Iteration: 90\n",
      "Iteration: 100\n"
     ]
    }
   ],
   "source": [
    "# Choose our model parameters\n",
    "num_hidden_states = 25\n",
    "iterations = 100\n",
    "\n",
    "HMM = unsupervised_HMM(features, num_hidden_states, iterations)\n",
    "emission, states = HMM.generate_emission(10)"
   ]
  },
  {
   "cell_type": "markdown",
   "metadata": {},
   "source": [
    "Now lets generate our sonnet"
   ]
  },
  {
   "cell_type": "code",
   "execution_count": 9,
   "metadata": {},
   "outputs": [
    {
     "name": "stdout",
     "output_type": "stream",
     "text": [
      ":\n",
      ":\n",
      "outgoing\n",
      ".\n",
      ".\n",
      ",\n",
      ",\n",
      ",\n",
      "in rhymers my stealing of but cover\n",
      "it thee with times my dulling in or find\n",
      "i that ears your outgoing at nor :\n",
      "maladies her making if and .\n",
      "in stars my recounting by and o'erlook\n",
      "on tears my succeeding upon and strife\n",
      "than eyes my receiving though and .\n",
      "since methinks my seeing for and ,\n",
      "me i of eyes my rising from and best\n",
      "with potions my making of but favour\n",
      "beast with days my watching in or ,\n",
      "in things my unfolding of and ,\n",
      "me day since boughs my being of and night\n",
      "provide with breeds my being in but sight\n"
     ]
    }
   ],
   "source": [
    "# abab cdcd efef gg\n",
    "sonnet = [\"\" for x in range(14)]\n",
    "line_idx = [0, 1, 4, 5, 8, 9, 12]\n",
    "for i in line_idx:\n",
    "    # choose a random word in the dictionary\n",
    "    key, val = random.choice(list(rhymes.items()))\n",
    "    # choose a random word that rhymes with the previous one\n",
    "    pair = np.random.choice(val)\n",
    "    sonnet[i] += str(key)\n",
    "    if i < 12:\n",
    "        sonnet[i+2] += str(pair)\n",
    "    else:\n",
    "        sonnet[i+1] += str(pair)\n",
    "for i in range(len(sonnet)):\n",
    "    line = generate_words(emission, seq_encode, syllables, True, sonnet[i])\n",
    "    sonnet[i] = line\n",
    "sonnet = \"\\n\".join(sonnet)\n",
    "with open('sonnet1.txt', 'w') as f:\n",
    "    f.write(str(sonnet))\n",
    "print(sonnet)\n",
    "\n"
   ]
  },
  {
   "cell_type": "code",
   "execution_count": 10,
   "metadata": {},
   "outputs": [],
   "source": [
    "A = np.array(HMM.A)\n",
    "O = np.array(HMM.O)"
   ]
  },
  {
   "cell_type": "code",
   "execution_count": 11,
   "metadata": {},
   "outputs": [
    {
     "data": {
      "image/png": "[encoded data removed]",
      "text/plain": [
       "<Figure size 432x288 with 2 Axes>"
      ]
     },
     "metadata": {
      "needs_background": "light"
     },
     "output_type": "display_data"
    }
   ],
   "source": [
    "import matplotlib.pyplot as plt\n",
    "from wordcloud import WordCloud\n",
    "from matplotlib import animation\n",
    "from matplotlib.animation import FuncAnimation\n",
    "\n",
    "\n",
    "plt.imshow(A, vmax=1.0)\n",
    "plt.colorbar()\n",
    "plt.title('Sparsity of A matrix')\n",
    "plt.show()\n"
   ]
  },
  {
   "cell_type": "code",
   "execution_count": 12,
   "metadata": {},
   "outputs": [
    {
     "data": {
      "image/png": "[encoded data removed]",
      "text/plain": [
       "<Figure size 432x288 with 2 Axes>"
      ]
     },
     "metadata": {
      "needs_background": "light"
     },
     "output_type": "display_data"
    }
   ],
   "source": [
    "plt.imshow(np.array(O)[:, :O.shape[1]], vmax=0.1, aspect='auto')\n",
    "plt.colorbar()\n",
    "plt.title('Sparsity of O matrix')\n",
    "plt.show()\n"
   ]
  },
  {
   "cell_type": "code",
   "execution_count": 49,
   "metadata": {},
   "outputs": [],
   "source": [
    "import numpy as np\n",
    "from matplotlib import pyplot as plt\n",
    "%matplotlib inline\n",
    "\n",
    "# with open('data/shakespeare.txt') as f:\n",
    "#     text = f.read()\n",
    "#     text = text.lower()\n",
    "\n",
    "words = [x for x in poem_tokens]\n",
    "newPunct = \"!#$%&()*+,./:';<=>?@[\\]^_`{|}~\"\n",
    "words = [x for x in words[0] if x not in newPunct]\n",
    "data = sorted([(w, words.count(w)) for w in set(words)], key = lambda x:x[1], reverse=True)[:40] \n",
    "most_words = [x[0] for x in data]\n",
    "most_words = sorted(most_words)\n",
    "del(most_words[0])\n",
    "times_used = [int(x[1]) for x in data]\n"
   ]
  },
  {
   "cell_type": "code",
   "execution_count": null,
   "metadata": {},
   "outputs": [],
   "source": []
  }
 ],
 "metadata": {
  "kernelspec": {
   "display_name": "Python 3",
   "language": "python",
   "name": "python3"
  },
  "language_info": {
   "codemirror_mode": {
    "name": "ipython",
    "version": 3
   },
   "file_extension": ".py",
   "mimetype": "text/x-python",
   "name": "python",
   "nbconvert_exporter": "python",
   "pygments_lexer": "ipython3",
   "version": "3.6.5"
  }
 },
 "nbformat": 4,
 "nbformat_minor": 2
}
