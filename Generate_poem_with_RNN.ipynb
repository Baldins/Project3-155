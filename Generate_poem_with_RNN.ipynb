{
 "cells": [
  {
   "cell_type": "code",
   "execution_count": 1,
   "metadata": {},
   "outputs": [
    {
     "name": "stderr",
     "output_type": "stream",
     "text": [
      "Using TensorFlow backend.\n"
     ]
    }
   ],
   "source": [
    "import os\n",
    "import sys\n",
    "import numpy as np\n",
    "import random\n",
    "import nltk\n",
    "from matplotlib import pyplot as plt\n",
    "from keras.models import Sequential\n",
    "from keras.layers.recurrent import LSTM\n",
    "from keras.layers.core import Dense, Activation, Dropout, Lambda\n",
    "from keras.utils import np_utils, to_categorical\n",
    "from keras.preprocessing.sequence import pad_sequences\n",
    "from keras.models import model_from_json\n",
    "from keras.models import load_model\n",
    "from keras.callbacks import ModelCheckpoint\n"
   ]
  },
  {
   "cell_type": "code",
   "execution_count": 3,
   "metadata": {},
   "outputs": [
    {
     "name": "stdout",
     "output_type": "stream",
     "text": [
      "Total Characters:  98029\n",
      "Total Vocab:  48\n"
     ]
    }
   ],
   "source": [
    "filename = 'data/shakespeare.txt'\n",
    "    \n",
    "text = open(filename).read()\n",
    "text = text.lower()\n",
    "\n",
    "chars = sorted(list(set(text)))\n",
    "char_to_int = dict((c, i) for i, c in enumerate(chars))\n",
    "int_to_char = dict((i, c) for i, c in enumerate(chars))\n",
    "\n",
    "# summarize the loaded data\n",
    "n_chars = len(text)\n",
    "n_vocab = len(chars)\n",
    "print (\"Total Characters: \", n_chars)\n",
    "print (\"Total Vocab: \", n_vocab)\n",
    "seq_length = 40\n",
    "\n",
    "dataX = []\n",
    "dataY = []"
   ]
  },
  {
   "cell_type": "code",
   "execution_count": 6,
   "metadata": {},
   "outputs": [],
   "source": [
    "lstm_size = 200\n",
    "num_epochs = 100\n",
    "sequence_length = 40\n",
    "\n",
    "sentence_length = sequence_length\n",
    "skip = 1\n",
    "for i in range(0,len(text)-sentence_length, skip):\n",
    "    seq_in = text[i:i + sentence_length]\n",
    "    seq_out = text[i + sentence_length]\n",
    "    dataX.append([char_to_int[char] for char in seq_in])\n",
    "    dataY.append(char_to_int[seq_out])\n",
    "\n",
    "num_sentences = len(dataX)\n",
    "\n",
    "X = np.zeros((num_sentences, sentence_length, n_chars), dtype=np.bool)\n",
    "y = np.zeros((num_sentences, n_chars), dtype=np.bool)\n",
    "\n",
    "for i, sent in enumerate(dataX):\n",
    "    for j, n_c in enumerate(sent):\n",
    "        X[i, j, n_c] = 1\n",
    "    y[i, dataY[i]] = 1"
   ]
  },
  {
   "cell_type": "code",
   "execution_count": 38,
   "metadata": {},
   "outputs": [],
   "source": [
    "# reshape X to be [samples, time steps, features]\n",
    "X = np.reshape(dataX, (n_patterns, seq_length, 1))\n",
    "# normalize\n",
    "X = X / float(n_vocab)\n",
    "# one hot encode the output variable\n",
    "y = np_utils.to_categorical(dataY)\n"
   ]
  },
  {
   "cell_type": "code",
   "execution_count": 7,
   "metadata": {},
   "outputs": [],
   "source": [
    "# Set parameters\n",
    "lstm_size = 200\n",
    "num_epochs = 100\n",
    "sequence_length = 40\n",
    "\n",
    "sentence_length = sequence_length\n",
    "skip = 1\n",
    "\n",
    "dataX = []\n",
    "dataY = []\n",
    "\n",
    "for i in range(0,len(text)-sentence_length, skip):\n",
    "    seq_in = text[i:i + sentence_length]\n",
    "    seq_out = text[i + sentence_length]\n",
    "    dataX.append([char_to_int[char] for char in seq_in])\n",
    "    dataY.append(char_to_int[seq_out])\n",
    "\n",
    "num_sentences = len(dataX)\n",
    "\n",
    "X = np.zeros((num_sentences, sentence_length, n_chars), dtype=np.bool)\n",
    "y = np.zeros((num_sentences, n_chars), dtype=np.bool)\n",
    "\n",
    "for i, sent in enumerate(dataX):\n",
    "    for j, n_c in enumerate(sent):\n",
    "        X[i, j, n_c] = 1\n",
    "    y[i, dataY[i]] = 1\n",
    "\n",
    "# reshape X to be [samples, time steps, features]\n",
    "# X = np.array([to_categorical(seq, num_classes=n_chars) for seq in dataX])\n",
    "# # normalize\n",
    "# X = X / float(n_chars)\n",
    "# # one hot encode the output variable\n",
    "# y = np_utils.to_categorical(dataY)"
   ]
  },
  {
   "cell_type": "code",
   "execution_count": 12,
   "metadata": {},
   "outputs": [],
   "source": [
    "from keras.models import load_model\n",
    "\n",
    "model = load_model('fra_rnn.h5')\n",
    "model.load_weights('fra_rnn.h5')\n",
    "model.compile(loss='categorical_crossentropy', optimizer='adam')"
   ]
  },
  {
   "cell_type": "code",
   "execution_count": 13,
   "metadata": {},
   "outputs": [],
   "source": [
    "# pick a random seed\n",
    "# start = np.random.randint(0, len(dataX)-1)\n",
    "# pattern = dataX[start]\n",
    "seed_phrase = 'all days are nights to see till i see thee,\\n'\n",
    "\n",
    "phrase_length = len(seed_phrase)\n",
    "pattern = \"\"\n",
    "for i in range (0, sentence_length):\n",
    "    pattern += seed_phrase[i ]\n"
   ]
  },
  {
   "cell_type": "code",
   "execution_count": 14,
   "metadata": {},
   "outputs": [
    {
     "data": {
      "text/plain": [
       "'all days are nights to see till i see th'"
      ]
     },
     "execution_count": 14,
     "metadata": {},
     "output_type": "execute_result"
    }
   ],
   "source": [
    "pattern"
   ]
  },
  {
   "cell_type": "code",
   "execution_count": 15,
   "metadata": {},
   "outputs": [
    {
     "name": "stdout",
     "output_type": "stream",
     "text": [
      "ee,\n",
      "  and sick you heart's living this, and kinds mose.\n",
      "\n",
      "\n",
      "                  29\n",
      "as ad whose bless these doth not seem with my mind,\n",
      "and that in suffired counseng to the wom.\n",
      "\n",
      "\n",
      "                   135\n",
      "whother sabubuty, and i may death, we happy ever full,\n",
      "and trets in your decaysted to stee might,\n",
      "save me then mine eye lake the dreason will,\n",
      "but the outward false abother waste with show,\n",
      "whet in they mine, much with all trilipuse:\n",
      "  herse i my self, and thee i am fors?\n",
      "i summer's glace they true my absent me to bade,\n",
      "so hate i than labges more than wilt on thee,\n",
      "as thy nights have i seen but day, my state mine eye,\n",
      "and with the troppy injury of your age,\n",
      "when i (hell masked buds my truthful slee,\n",
      "so that my sigh the timbalow hath lives fair,\n",
      "while shadows lines no old of youth doth strange,\n",
      "whom that conscicion like his score their frome,\n",
      "but in the glaring and on faller prom,\n",
      "although with thee i in their show where.\n",
      "\n",
      "\n",
      "                   73\n",
      "what is a man is party defurd did?\n",
      "why shalt so behong and thee in the even.\n",
      "  but offence is the star to razed oblive,\n",
      "thy beauty, and thy years full faulted time,\n",
      "and time dear hil again doth thy dear featter,\n",
      "but yeu not to be will be true depatt,\n",
      "graving thy widgs conceit of thine eye as thee,\n",
      "  thing your proud his repear of love thee,\n",
      "every hyen shall exeppar to right and fair,\n",
      "my self do these alone un right for storn.\n",
      "if for thy shum diebling my dead fily face,\n",
      "within my self, and thee i am forsaken,\n",
      "and your presare to covernevis once me.\n",
      "\n",
      "\n",
      "                   114\n",
      "or whether doth my mind another in despised,\n",
      "when it so vex me, af her viewathing be thy self tire?\n",
      "auphing forseffic the from my self art,\n",
      "if this, as thou shalt store a lest in me,\n",
      "i sings my mind at reniture grief.\n",
      "\n",
      "\n",
      "                   115\n",
      "those lines that i befoured that your sweet'st but.\n",
      "as if fair for more with beauty, and knows nothing from thee.\n",
      "\n",
      "\n",
      "                   149\n",
      "o her for my sinful each precious yeed is,\n",
      "whilst thou dost be too an's fint of plaise"
     ]
    }
   ],
   "source": [
    "X = np.zeros((1, sentence_length, n_vocab), dtype=np.bool)\n",
    "for i, character in enumerate(pattern):\n",
    "    X[0, i, char_to_int[character]] = 1\n",
    "generated_text = \"\"\n",
    "for i in range(2000):\n",
    "    prediction = np.argmax(model.predict(X, verbose=0))\n",
    "\n",
    "    generated_text = int_to_char[prediction]\n",
    "    sys.stdout.write(generated_text)\n",
    "    activations = np.zeros((1, 1, n_vocab), dtype=np.bool)\n",
    "    activations[0, 0, prediction] = 1\n",
    "    X = np.concatenate((X[:, 1:, :], activations), axis=1)"
   ]
  },
  {
   "cell_type": "code",
   "execution_count": null,
   "metadata": {},
   "outputs": [],
   "source": []
  }
 ],
 "metadata": {
  "kernelspec": {
   "display_name": "Python 3",
   "language": "python",
   "name": "python3"
  },
  "language_info": {
   "codemirror_mode": {
    "name": "ipython",
    "version": 3
   },
   "file_extension": ".py",
   "mimetype": "text/x-python",
   "name": "python",
   "nbconvert_exporter": "python",
   "pygments_lexer": "ipython3",
   "version": "3.6.5"
  }
 },
 "nbformat": 4,
 "nbformat_minor": 2
}
